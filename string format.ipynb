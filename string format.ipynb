{
 "cells": [
  {
   "cell_type": "markdown",
   "metadata": {},
   "source": [
    "# Gaia DR2\n",
    "# CMC15\n",
    "# Pan-STARRS DR1\n",
    "# 2MASS All-Sky\n",
    "# SDSS DR12\n",
    "# URAT1\n",
    "# UCAC4"
   ]
  },
  {
   "cell_type": "code",
   "execution_count": 1,
   "metadata": {
    "scrolled": true
   },
   "outputs": [
    {
     "name": "stdout",
     "output_type": "stream",
     "text": [
      "Gaia\t\t\t\t\t\t\t\t\t\t\t\t\t\t|\n",
      "RA[deg]          \tDecl [deg]          \tmag [mag]\tPM_RA [mas/yr]     \tPM_Decl [mas/yr]\t|\n"
     ]
    }
   ],
   "source": [
    "print('Gaia\\t\\t\\t\\t\\t\\t\\t\\t\\t\\t\\t\\t\\t\\t|')\n",
    "print('RA[deg]          \\tDecl [deg]          \\tmag [mag]\\tPM_RA [mas/yr]     \\tPM_Decl [mas/yr]\\t|')"
   ]
  },
  {
   "cell_type": "code",
   "execution_count": 5,
   "metadata": {},
   "outputs": [
    {
     "name": "stdout",
     "output_type": "stream",
     "text": [
      "CMC15\t\t\t\t\t\t\t\t|\n",
      "RA[deg]          \tDecl [deg]          \tmag [mag]\t|\n"
     ]
    }
   ],
   "source": [
    "print('CMC15\\t\\t\\t\\t\\t\\t\\t\\t|')\n",
    "print('RA[deg]          \\tDecl [deg]          \\tmag [mag]\\t|')"
   ]
  },
  {
   "cell_type": "code",
   "execution_count": 7,
   "metadata": {},
   "outputs": [
    {
     "name": "stdout",
     "output_type": "stream",
     "text": [
      "Pan-Starrs DR1\t\t\t\t\t\t\t|\n",
      "RA[deg]          \tDecl [deg]          \tmag [mag]\t|\n"
     ]
    }
   ],
   "source": [
    "print('Pan-Starrs DR1\\t\\t\\t\\t\\t\\t\\t|')\n",
    "print('RA[deg]          \\tDecl [deg]          \\tmag [mag]\\t|')"
   ]
  },
  {
   "cell_type": "code",
   "execution_count": 24,
   "metadata": {},
   "outputs": [
    {
     "name": "stdout",
     "output_type": "stream",
     "text": [
      "hello  apple\n",
      "hello apple\n",
      "helloapple\n"
     ]
    }
   ],
   "source": [
    "sentence = ' hello  apple  '\n",
    "print(sentence.strip())\n",
    "print(\" \".join(sentence.split()))\n",
    "print(sentence.replace(\" \", \"\"))"
   ]
  },
  {
   "cell_type": "code",
   "execution_count": 26,
   "metadata": {},
   "outputs": [
    {
     "name": "stdout",
     "output_type": "stream",
     "text": [
      "*Gaia*\n",
      "*CMC15*\n",
      "*Pan-Starrs DR1*\n"
     ]
    }
   ],
   "source": [
    "string = 'Gaia\\t\\t\\t\\t\\t\\t\\t\\t\\t\\t\\t\\t\\t\\t|CMC15\\t\\t\\t\\t\\t\\t\\t\\t|Pan-Starrs DR1\\t\\t\\t\\t\\t\\t\\t'\n",
    "for a in string.split('|'):\n",
    "    print('*{}*'.format(a.strip()))"
   ]
  },
  {
   "cell_type": "code",
   "execution_count": null,
   "metadata": {},
   "outputs": [],
   "source": []
  }
 ],
 "metadata": {
  "kernelspec": {
   "display_name": "Python 3",
   "language": "python",
   "name": "python3"
  },
  "language_info": {
   "codemirror_mode": {
    "name": "ipython",
    "version": 3
   },
   "file_extension": ".py",
   "mimetype": "text/x-python",
   "name": "python",
   "nbconvert_exporter": "python",
   "pygments_lexer": "ipython3",
   "version": "3.7.6"
  }
 },
 "nbformat": 4,
 "nbformat_minor": 4
}
